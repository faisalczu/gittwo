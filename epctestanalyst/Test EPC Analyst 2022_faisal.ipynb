{
 "cells": [
  {
   "cell_type": "markdown",
   "id": "3dbde6b6",
   "metadata": {},
   "source": [
    "### Introduction to the data:\n",
    "\n",
    "In the energy market we work mainly with timeseries data. Most of the data is downloadable from a free or paid source that we access to. However, some of the sources are not reliable, therefore there is a need for data cleaning, e.g. dealing with outliers, missing values, mismatch in date for some of the commodities. There are many ways how to deal with them and we leave it up to you. In the attached files you can find the most important data for our business:\n",
    "\n",
    "* Power prices: electricity market is one of the pillars of EPH energy business as it represents the revenue side.\n",
    "* Gas and Coal prices: these are the most common fuels in energy generation worldwide. \n",
    "* Emissions prices: in most European countries the power generation is obliged to pay for the emissions produced because of fuel burn. It became an important factor which is making a difference in the profitability of the power generation business. \n",
    "* FX: not all commodities are traded in EUR therefore some currency conversion might be needed."
   ]
  },
  {
   "cell_type": "markdown",
   "id": "4f882a7d",
   "metadata": {},
   "source": [
    "### Tasks:\n",
    "\n",
    "Try to accomplish as many tasks as possible. You don't have to solve the tasks in the order they are listed but some of them may need the result of previous ones."
   ]
  },
  {
   "cell_type": "code",
   "execution_count": 2,
   "id": "f4b16e1c",
   "metadata": {},
   "outputs": [],
   "source": [
    "# Load here the packages you will use\n",
    "\n",
    "import pandas as pd\n",
    "import sqlite3\n",
    "import time\n"
   ]
  },
  {
   "cell_type": "markdown",
   "id": "c51ecedc",
   "metadata": {},
   "source": [
    "1.\tLoad attached csv files ('commodities', 'fx') into python. Files might contain outliers or missing data that you have to deal with, please describe the logic on how and why you cleaned the data. Specifically, propose a way to replace NaN values and shortly describe the reason behind your choice."
   ]
  },
  {
   "cell_type": "markdown",
   "id": "2d920ac8",
   "metadata": {},
   "source": [
    "# Data load of commodities.csv-------"
   ]
  },
  {
   "cell_type": "code",
   "execution_count": 14,
   "id": "25083457",
   "metadata": {
    "scrolled": false
   },
   "outputs": [
    {
     "data": {
      "text/html": [
       "<div>\n",
       "<style scoped>\n",
       "    .dataframe tbody tr th:only-of-type {\n",
       "        vertical-align: middle;\n",
       "    }\n",
       "\n",
       "    .dataframe tbody tr th {\n",
       "        vertical-align: top;\n",
       "    }\n",
       "\n",
       "    .dataframe thead th {\n",
       "        text-align: right;\n",
       "    }\n",
       "</style>\n",
       "<table border=\"1\" class=\"dataframe\">\n",
       "  <thead>\n",
       "    <tr style=\"text-align: right;\">\n",
       "      <th></th>\n",
       "      <th>Date</th>\n",
       "      <th>Power_EUR</th>\n",
       "      <th>Gas_EUR</th>\n",
       "      <th>Emissions_EUR</th>\n",
       "      <th>Coal_USD</th>\n",
       "    </tr>\n",
       "  </thead>\n",
       "  <tbody>\n",
       "    <tr>\n",
       "      <th>0</th>\n",
       "      <td>24-09-20</td>\n",
       "      <td>40,99</td>\n",
       "      <td>13,55</td>\n",
       "      <td>26,45</td>\n",
       "      <td>59,9</td>\n",
       "    </tr>\n",
       "    <tr>\n",
       "      <th>1</th>\n",
       "      <td>23-09-20</td>\n",
       "      <td>41,21</td>\n",
       "      <td>13,588</td>\n",
       "      <td>26,5</td>\n",
       "      <td>59,5</td>\n",
       "    </tr>\n",
       "    <tr>\n",
       "      <th>2</th>\n",
       "      <td>22-09-20</td>\n",
       "      <td>40,81</td>\n",
       "      <td>13,426</td>\n",
       "      <td>27,85</td>\n",
       "      <td>58,36</td>\n",
       "    </tr>\n",
       "    <tr>\n",
       "      <th>3</th>\n",
       "      <td>21-09-20</td>\n",
       "      <td>40,97</td>\n",
       "      <td>13,388</td>\n",
       "      <td>26,4</td>\n",
       "      <td>57,75</td>\n",
       "    </tr>\n",
       "    <tr>\n",
       "      <th>4</th>\n",
       "      <td>18-09-20</td>\n",
       "      <td>41,82</td>\n",
       "      <td>13,707</td>\n",
       "      <td>27,99</td>\n",
       "      <td>58,42</td>\n",
       "    </tr>\n",
       "    <tr>\n",
       "      <th>...</th>\n",
       "      <td>...</td>\n",
       "      <td>...</td>\n",
       "      <td>...</td>\n",
       "      <td>...</td>\n",
       "      <td>...</td>\n",
       "    </tr>\n",
       "    <tr>\n",
       "      <th>1491</th>\n",
       "      <td>07-01-15</td>\n",
       "      <td>31,64</td>\n",
       "      <td>20,04</td>\n",
       "      <td>6,87</td>\n",
       "      <td>59,76</td>\n",
       "    </tr>\n",
       "    <tr>\n",
       "      <th>1492</th>\n",
       "      <td>06-01-15</td>\n",
       "      <td>31,38</td>\n",
       "      <td>19,94</td>\n",
       "      <td>6,86</td>\n",
       "      <td>60,98</td>\n",
       "    </tr>\n",
       "    <tr>\n",
       "      <th>1493</th>\n",
       "      <td>05-01-15</td>\n",
       "      <td>31,95</td>\n",
       "      <td>20,44</td>\n",
       "      <td>6,99</td>\n",
       "      <td>62,01</td>\n",
       "    </tr>\n",
       "    <tr>\n",
       "      <th>1494</th>\n",
       "      <td>02-01-15</td>\n",
       "      <td>32,36</td>\n",
       "      <td>20,75</td>\n",
       "      <td>7,09</td>\n",
       "      <td>64,39</td>\n",
       "    </tr>\n",
       "    <tr>\n",
       "      <th>1495</th>\n",
       "      <td>01-01-15</td>\n",
       "      <td>32,36</td>\n",
       "      <td>NaN</td>\n",
       "      <td>NaN</td>\n",
       "      <td>NaN</td>\n",
       "    </tr>\n",
       "  </tbody>\n",
       "</table>\n",
       "<p>1496 rows × 5 columns</p>\n",
       "</div>"
      ],
      "text/plain": [
       "          Date Power_EUR Gas_EUR Emissions_EUR Coal_USD\n",
       "0     24-09-20     40,99   13,55         26,45     59,9\n",
       "1     23-09-20     41,21  13,588          26,5     59,5\n",
       "2     22-09-20     40,81  13,426         27,85    58,36\n",
       "3     21-09-20     40,97  13,388          26,4    57,75\n",
       "4     18-09-20     41,82  13,707         27,99    58,42\n",
       "...        ...       ...     ...           ...      ...\n",
       "1491  07-01-15     31,64   20,04          6,87    59,76\n",
       "1492  06-01-15     31,38   19,94          6,86    60,98\n",
       "1493  05-01-15     31,95   20,44          6,99    62,01\n",
       "1494  02-01-15     32,36   20,75          7,09    64,39\n",
       "1495  01-01-15     32,36     NaN           NaN      NaN\n",
       "\n",
       "[1496 rows x 5 columns]"
      ]
     },
     "execution_count": 14,
     "metadata": {},
     "output_type": "execute_result"
    }
   ],
   "source": [
    "Com_Data = pd.read_csv('commodities.csv', sep = ';')\n",
    "Com_Data\n",
    "\n",
    "Com_Data.rename(columns={'Unnamed: 0':'Date'}, inplace=True)\n",
    "Com_Data"
   ]
  },
  {
   "cell_type": "code",
   "execution_count": 17,
   "id": "b1d16591",
   "metadata": {
    "scrolled": true
   },
   "outputs": [
    {
     "data": {
      "text/html": [
       "<div>\n",
       "<style scoped>\n",
       "    .dataframe tbody tr th:only-of-type {\n",
       "        vertical-align: middle;\n",
       "    }\n",
       "\n",
       "    .dataframe tbody tr th {\n",
       "        vertical-align: top;\n",
       "    }\n",
       "\n",
       "    .dataframe thead th {\n",
       "        text-align: right;\n",
       "    }\n",
       "</style>\n",
       "<table border=\"1\" class=\"dataframe\">\n",
       "  <thead>\n",
       "    <tr style=\"text-align: right;\">\n",
       "      <th></th>\n",
       "      <th>Date</th>\n",
       "      <th>Power_EUR</th>\n",
       "      <th>Gas_EUR</th>\n",
       "      <th>Emissions_EUR</th>\n",
       "      <th>Coal_USD</th>\n",
       "    </tr>\n",
       "  </thead>\n",
       "  <tbody>\n",
       "    <tr>\n",
       "      <th>count</th>\n",
       "      <td>1496</td>\n",
       "      <td>1487</td>\n",
       "      <td>1439</td>\n",
       "      <td>1470</td>\n",
       "      <td>1468</td>\n",
       "    </tr>\n",
       "    <tr>\n",
       "      <th>unique</th>\n",
       "      <td>1496</td>\n",
       "      <td>1091</td>\n",
       "      <td>1118</td>\n",
       "      <td>917</td>\n",
       "      <td>1131</td>\n",
       "    </tr>\n",
       "    <tr>\n",
       "      <th>top</th>\n",
       "      <td>24-09-20</td>\n",
       "      <td>30,3</td>\n",
       "      <td>21,8</td>\n",
       "      <td>4,97</td>\n",
       "      <td>57,7</td>\n",
       "    </tr>\n",
       "    <tr>\n",
       "      <th>freq</th>\n",
       "      <td>1</td>\n",
       "      <td>6</td>\n",
       "      <td>5</td>\n",
       "      <td>7</td>\n",
       "      <td>5</td>\n",
       "    </tr>\n",
       "  </tbody>\n",
       "</table>\n",
       "</div>"
      ],
      "text/plain": [
       "            Date Power_EUR Gas_EUR Emissions_EUR Coal_USD\n",
       "count       1496      1487    1439          1470     1468\n",
       "unique      1496      1091    1118           917     1131\n",
       "top     24-09-20      30,3    21,8          4,97     57,7\n",
       "freq           1         6       5             7        5"
      ]
     },
     "execution_count": 17,
     "metadata": {},
     "output_type": "execute_result"
    }
   ],
   "source": [
    "Com_Data.describe()"
   ]
  },
  {
   "cell_type": "code",
   "execution_count": 18,
   "id": "69585bab",
   "metadata": {
    "scrolled": true
   },
   "outputs": [
    {
     "name": "stdout",
     "output_type": "stream",
     "text": [
      "<class 'pandas.core.frame.DataFrame'>\n",
      "RangeIndex: 1496 entries, 0 to 1495\n",
      "Data columns (total 5 columns):\n",
      " #   Column         Non-Null Count  Dtype \n",
      "---  ------         --------------  ----- \n",
      " 0   Date           1496 non-null   object\n",
      " 1   Power_EUR      1487 non-null   object\n",
      " 2   Gas_EUR        1439 non-null   object\n",
      " 3   Emissions_EUR  1470 non-null   object\n",
      " 4   Coal_USD       1468 non-null   object\n",
      "dtypes: object(5)\n",
      "memory usage: 58.6+ KB\n"
     ]
    }
   ],
   "source": [
    "Com_Data.info()"
   ]
  },
  {
   "cell_type": "code",
   "execution_count": 20,
   "id": "e90ecd3b",
   "metadata": {
    "scrolled": false
   },
   "outputs": [
    {
     "data": {
      "text/plain": [
       "Index(['Date', 'Power_EUR', 'Gas_EUR', 'Emissions_EUR', 'Coal_USD'], dtype='object')"
      ]
     },
     "execution_count": 20,
     "metadata": {},
     "output_type": "execute_result"
    }
   ],
   "source": [
    "Com_Data.columns"
   ]
  },
  {
   "cell_type": "markdown",
   "id": "2d05dfcd",
   "metadata": {},
   "source": [
    "# Data load of fx.csv---"
   ]
  },
  {
   "cell_type": "code",
   "execution_count": 12,
   "id": "2d9c0a93",
   "metadata": {
    "scrolled": true
   },
   "outputs": [
    {
     "data": {
      "text/html": [
       "<div>\n",
       "<style scoped>\n",
       "    .dataframe tbody tr th:only-of-type {\n",
       "        vertical-align: middle;\n",
       "    }\n",
       "\n",
       "    .dataframe tbody tr th {\n",
       "        vertical-align: top;\n",
       "    }\n",
       "\n",
       "    .dataframe thead th {\n",
       "        text-align: right;\n",
       "    }\n",
       "</style>\n",
       "<table border=\"1\" class=\"dataframe\">\n",
       "  <thead>\n",
       "    <tr style=\"text-align: right;\">\n",
       "      <th></th>\n",
       "      <th>Date</th>\n",
       "      <th>EUR/USD</th>\n",
       "    </tr>\n",
       "  </thead>\n",
       "  <tbody>\n",
       "    <tr>\n",
       "      <th>0</th>\n",
       "      <td>2020-09-24</td>\n",
       "      <td>1,1626</td>\n",
       "    </tr>\n",
       "    <tr>\n",
       "      <th>1</th>\n",
       "      <td>2020-09-23</td>\n",
       "      <td>1,1659</td>\n",
       "    </tr>\n",
       "    <tr>\n",
       "      <th>2</th>\n",
       "      <td>2020-09-22</td>\n",
       "      <td>1,1706</td>\n",
       "    </tr>\n",
       "    <tr>\n",
       "      <th>3</th>\n",
       "      <td>2020-09-21</td>\n",
       "      <td>1,1769</td>\n",
       "    </tr>\n",
       "    <tr>\n",
       "      <th>4</th>\n",
       "      <td>2020-09-18</td>\n",
       "      <td>1,1837</td>\n",
       "    </tr>\n",
       "    <tr>\n",
       "      <th>...</th>\n",
       "      <td>...</td>\n",
       "      <td>...</td>\n",
       "    </tr>\n",
       "    <tr>\n",
       "      <th>1475</th>\n",
       "      <td>2015-07-01</td>\n",
       "      <td>1,1837</td>\n",
       "    </tr>\n",
       "    <tr>\n",
       "      <th>1476</th>\n",
       "      <td>2015-06-01</td>\n",
       "      <td>1,1888</td>\n",
       "    </tr>\n",
       "    <tr>\n",
       "      <th>1477</th>\n",
       "      <td>2015-05-01</td>\n",
       "      <td>1,1931</td>\n",
       "    </tr>\n",
       "    <tr>\n",
       "      <th>1478</th>\n",
       "      <td>2015-02-01</td>\n",
       "      <td>1,2</td>\n",
       "    </tr>\n",
       "    <tr>\n",
       "      <th>1479</th>\n",
       "      <td>2015-01-01</td>\n",
       "      <td>1,2102</td>\n",
       "    </tr>\n",
       "  </tbody>\n",
       "</table>\n",
       "<p>1480 rows × 2 columns</p>\n",
       "</div>"
      ],
      "text/plain": [
       "            Date EUR/USD\n",
       "0     2020-09-24  1,1626\n",
       "1     2020-09-23  1,1659\n",
       "2     2020-09-22  1,1706\n",
       "3     2020-09-21  1,1769\n",
       "4     2020-09-18  1,1837\n",
       "...          ...     ...\n",
       "1475  2015-07-01  1,1837\n",
       "1476  2015-06-01  1,1888\n",
       "1477  2015-05-01  1,1931\n",
       "1478  2015-02-01     1,2\n",
       "1479  2015-01-01  1,2102\n",
       "\n",
       "[1480 rows x 2 columns]"
      ]
     },
     "execution_count": 12,
     "metadata": {},
     "output_type": "execute_result"
    }
   ],
   "source": [
    "Fx_Data = pd.read_csv('fx.csv', sep = ';')\n",
    "Fx_Data\n",
    "\n",
    "Fx_Data.rename(columns={'Unnamed: 0':'Date'}, inplace=True)\n",
    "Fx_Data"
   ]
  },
  {
   "cell_type": "code",
   "execution_count": 21,
   "id": "868a5857",
   "metadata": {},
   "outputs": [
    {
     "data": {
      "text/html": [
       "<div>\n",
       "<style scoped>\n",
       "    .dataframe tbody tr th:only-of-type {\n",
       "        vertical-align: middle;\n",
       "    }\n",
       "\n",
       "    .dataframe tbody tr th {\n",
       "        vertical-align: top;\n",
       "    }\n",
       "\n",
       "    .dataframe thead th {\n",
       "        text-align: right;\n",
       "    }\n",
       "</style>\n",
       "<table border=\"1\" class=\"dataframe\">\n",
       "  <thead>\n",
       "    <tr style=\"text-align: right;\">\n",
       "      <th></th>\n",
       "      <th>Date</th>\n",
       "      <th>EUR/USD</th>\n",
       "    </tr>\n",
       "  </thead>\n",
       "  <tbody>\n",
       "    <tr>\n",
       "      <th>count</th>\n",
       "      <td>1480</td>\n",
       "      <td>1480</td>\n",
       "    </tr>\n",
       "    <tr>\n",
       "      <th>unique</th>\n",
       "      <td>1480</td>\n",
       "      <td>932</td>\n",
       "    </tr>\n",
       "    <tr>\n",
       "      <th>top</th>\n",
       "      <td>2020-09-24</td>\n",
       "      <td>1,134</td>\n",
       "    </tr>\n",
       "    <tr>\n",
       "      <th>freq</th>\n",
       "      <td>1</td>\n",
       "      <td>7</td>\n",
       "    </tr>\n",
       "  </tbody>\n",
       "</table>\n",
       "</div>"
      ],
      "text/plain": [
       "              Date EUR/USD\n",
       "count         1480    1480\n",
       "unique        1480     932\n",
       "top     2020-09-24   1,134\n",
       "freq             1       7"
      ]
     },
     "execution_count": 21,
     "metadata": {},
     "output_type": "execute_result"
    }
   ],
   "source": [
    "Fx_Data.describe()"
   ]
  },
  {
   "cell_type": "code",
   "execution_count": 22,
   "id": "96128b72",
   "metadata": {
    "scrolled": true
   },
   "outputs": [
    {
     "name": "stdout",
     "output_type": "stream",
     "text": [
      "<class 'pandas.core.frame.DataFrame'>\n",
      "RangeIndex: 1480 entries, 0 to 1479\n",
      "Data columns (total 2 columns):\n",
      " #   Column   Non-Null Count  Dtype \n",
      "---  ------   --------------  ----- \n",
      " 0   Date     1480 non-null   object\n",
      " 1   EUR/USD  1480 non-null   object\n",
      "dtypes: object(2)\n",
      "memory usage: 23.2+ KB\n"
     ]
    }
   ],
   "source": [
    "Fx_Data.info()"
   ]
  },
  {
   "cell_type": "code",
   "execution_count": 23,
   "id": "2cc67531",
   "metadata": {},
   "outputs": [
    {
     "data": {
      "text/plain": [
       "Index(['Date', 'EUR/USD'], dtype='object')"
      ]
     },
     "execution_count": 23,
     "metadata": {},
     "output_type": "execute_result"
    }
   ],
   "source": [
    "Fx_Data.columns"
   ]
  },
  {
   "cell_type": "markdown",
   "id": "07b985b6",
   "metadata": {},
   "source": [
    "2.\tPlease calculate for each commodity (for Coal both in USD and EUR) for every calendar year:\n",
    "\n",
    " * Average price \n",
    " * Minimum \n",
    " * Maximum\n",
    " * Volatility (standard deviation)"
   ]
  },
  {
   "cell_type": "markdown",
   "id": "78706936",
   "metadata": {},
   "source": [
    "3. Using the commodity prices calculate new vectors according to the following equations:\n",
    " * CDS = Power price in EUR – 0.37 * coal price in EUR – 0.86 * Emissions in EUR <br>\n",
    " (CDS = Clean Dark Spread shows the profitability of a coal power plant, i.e. power - coal variable costs)\n",
    " * CSS = Power price in EUR – 2 * gas price in EUR – 0.4 * Emissions in EUR <br>\n",
    " (CSS = Clean Spark Spread shows the profitability of a gas power plant, i.e. power - gas variable costs)"
   ]
  },
  {
   "cell_type": "code",
   "execution_count": null,
   "id": "72e91b3c",
   "metadata": {},
   "outputs": [],
   "source": []
  },
  {
   "cell_type": "markdown",
   "id": "4061e713",
   "metadata": {},
   "source": [
    "4. Show graphically the CDS and CSS in one chart (time on horizontal, price on vertical axis) and represent the difference between the CDS and CSS on the secondary vertical axis."
   ]
  },
  {
   "cell_type": "code",
   "execution_count": null,
   "id": "8af4ee5e",
   "metadata": {},
   "outputs": [],
   "source": []
  },
  {
   "cell_type": "markdown",
   "id": "bffb8394",
   "metadata": {},
   "source": [
    "5. Write an SQL query to make a new table called \"profitability\" in the provided database file testdatabase.db, consisting of columns 'trade_date', 'cds' and 'css' and fill it with CDS and CSS timeseries obtained in previous step."
   ]
  },
  {
   "cell_type": "code",
   "execution_count": 41,
   "id": "8df32c4e",
   "metadata": {},
   "outputs": [],
   "source": [
    "import sqlite3"
   ]
  },
  {
   "cell_type": "code",
   "execution_count": 36,
   "id": "63c4b753",
   "metadata": {
    "scrolled": true
   },
   "outputs": [],
   "source": [
    "conn = sqlite3.connect('testdatabase.db')"
   ]
  },
  {
   "cell_type": "code",
   "execution_count": 48,
   "id": "2fe07b8a",
   "metadata": {},
   "outputs": [],
   "source": [
    "curs = conn.cursor()"
   ]
  },
  {
   "cell_type": "code",
   "execution_count": 59,
   "id": "4db1986a",
   "metadata": {
    "scrolled": true
   },
   "outputs": [
    {
     "data": {
      "text/plain": [
       "<sqlite3.Cursor at 0x249b2d493c0>"
      ]
     },
     "execution_count": 59,
     "metadata": {},
     "output_type": "execute_result"
    }
   ],
   "source": [
    "curs.execute(\"CREATE TABLE profitability (id INT AUTO INCREMENT PRIMARY KEY, trade_date TIMESTAMP, cds FLOAT, css FLOAT)\")"
   ]
  },
  {
   "cell_type": "code",
   "execution_count": null,
   "id": "6eb60921",
   "metadata": {},
   "outputs": [],
   "source": []
  },
  {
   "cell_type": "code",
   "execution_count": null,
   "id": "451dce09",
   "metadata": {},
   "outputs": [],
   "source": [
    "conn = sql.connect('testdatabase.db')\n",
    "weather.to_sql('testdatabase', conn)\n",
    "\n",
    "conn = sql.connect('testdatabase.db')\n",
    "weather = pd.read_sql('', conn\n"
   ]
  },
  {
   "cell_type": "markdown",
   "id": "28420f1a",
   "metadata": {},
   "source": [
    "With the table created, compare the historical CSS and CDS values with the past availabilities of some of the company’s power plants. This registry of past availability days already exists in the database in a table called “availability” with the following format:\n",
    "\n",
    "| trade_date | coal_AX23 | coal_BM12 | gas_N9 |\n",
    "| --- | --- | --- | --- |\n",
    "| 24-09-2020 | TRUE | TRUE | TRUE |\n",
    "| 23-09-2020 | TRUE | TRUE | FALSE |\n",
    "| 22-09-2020 | TRUE | TRUE | TRUE |\n",
    "| 21-09-2020 | FALSE | TRUE | TRUE |\n",
    "| 18-09-2020 | FALSE | TRUE | TRUE |\n",
    "| ... | ... | ... | ... |\n",
    "\n",
    "The power plant is able to produce electricity on TRUE days while a maintenance is going on FALSE days, meaning the plant cannot generate power. "
   ]
  },
  {
   "cell_type": "markdown",
   "id": "8fbbc88f",
   "metadata": {},
   "source": [
    "6. Write an SQL query to select the days on which the CSS was positive (greater than zero) and, at the same time, the power plant “gas_N9” was available for production. The result should only include a 'trade_date' column and a 'css' column with the CSS numerical values."
   ]
  },
  {
   "cell_type": "code",
   "execution_count": null,
   "id": "4ea9faf0",
   "metadata": {},
   "outputs": [],
   "source": [
    "conn = sqlite3.connect(\"testdatabase.db\")\n",
    "curs = conn.cursor()\n",
    "\n",
    "df = pd.read_sql_query(\"\", conn)\n",
    "\n",
    "conn.close()"
   ]
  },
  {
   "cell_type": "markdown",
   "id": "0cca7bd8",
   "metadata": {},
   "source": [
    "7. Write an SQL query to count the number of days per calendar quarter (Q1: Jan-Mar, Q2: Apr-Jun etc.) when both “coal_AX23” and “coal_BM12” were available for generation and the CDS was higher than the CSS. The result should include columns with the year, quarter and counted number of days that meet the requirements, for instance:\n",
    "\n",
    "| year | quarter | count |\n",
    "| --- | --- | --- |\n",
    "| 2020 | 4 | 24 |\n",
    "| 2020 | 3 | 65 |\n",
    "| 2020 | 2 | 73 |\n",
    "| 2020 | 1 | 56 |\n",
    "| 2019 | 4 | 76 |\n",
    "| 2019 | 3 | 82 |\n",
    "| ... | ... | ... |"
   ]
  },
  {
   "cell_type": "code",
   "execution_count": null,
   "id": "419fbc3a",
   "metadata": {},
   "outputs": [],
   "source": [
    "conn = sqlite3.connect(\"testdatabase.db\")\n",
    "curs = conn.cursor()\n",
    "\n",
    "df = pd.read_sql_query(\"YOUR QUERY\", conn)\n",
    "\n",
    "conn.close()"
   ]
  },
  {
   "cell_type": "markdown",
   "id": "13d5a2a3",
   "metadata": {},
   "source": [
    "<br>\n",
    "<br>\n",
    "The aim of the next exercise is to simulate the cross-border power transmission from Germany to France. In order to do this, an Excel file containing a dataframe like the one below is provided:\n",
    "\n",
    "|datetime            | de_price | fr_price | signal |\n",
    "|---------------------|----------|----------|--------|\n",
    "| 2013-07-02 00:00:00 | 31.95    | 32.33    | NaN    |\n",
    "| 2013-07-02 01:00:00 | 30.01    | 30.34    | NaN    |\n",
    "| 2013-07-02 02:00:00 | 28.30     | 26.23     | NaN    |\n",
    "| 2013-07-02 03:00:00 | 25.84    | 27.10     | NaN    |\n",
    "| 2013-07-02 04:00:00 | 26.72    | 28.81    | NaN    |\n",
    "\n",
    "Note: Data in the dataframe is already correctly treated, there is no need to treat repeated dates or NaN values in the 'price' columns.\n",
    "\n",
    "\n",
    "Aside of the electricity prices for each country, there is an empty column named \"signal\" that needs\n",
    "to be filled with a string saying either 'nominate' or 'do nothing'. The condition is as follows: in each of the hours (rows), if the\n",
    "French price is greater than the German one and the same thing happened in the previous hour (row above), this hour will be labeled as 'nominate', otherwise it will be labeled as 'do nothing'.\n",
    "\n",
    "By following these instructions, the sample shown above should have its \"signal\" column as follows:\n",
    "\n",
    "\n",
    "|datetime            | de_price | fr_price | signal |\n",
    "|---------------------|----------|----------|--------|\n",
    "| 2013-07-02 00:00:00 | 31.95    | 32.33    | do nothing    |\n",
    "| 2013-07-02 01:00:00 | 30.01    | 30.34    | nominate    |\n",
    "| 2013-07-02 02:00:00 | 28.30     | 26.23     | do nothing    |\n",
    "| 2013-07-02 03:00:00 | 25.84    | 27.10     | do nothing    |\n",
    "| 2013-07-02 04:00:00 | 26.72    | 28.81    | nominate    |\n",
    "\n",
    "Since the top-row hour is the first one on the dataset, it will be automatically labeled as \"do nothing\"."
   ]
  },
  {
   "cell_type": "markdown",
   "id": "286091c9",
   "metadata": {},
   "source": [
    "8. In order to accomplish this task, a very inefficient chunk of code is given as an example. Modify it or rewrite completely in order to get the same result, but faster:"
   ]
  },
  {
   "cell_type": "code",
   "execution_count": 46,
   "id": "ea7cb6a3",
   "metadata": {},
   "outputs": [
    {
     "ename": "IndentationError",
     "evalue": "unexpected indent (148789819.py, line 15)",
     "output_type": "error",
     "traceback": [
      "\u001b[1;36m  Input \u001b[1;32mIn [46]\u001b[1;36m\u001b[0m\n\u001b[1;33m    if difference_now > 0 and difference_previous_hour > 0:\u001b[0m\n\u001b[1;37m    ^\u001b[0m\n\u001b[1;31mIndentationError\u001b[0m\u001b[1;31m:\u001b[0m unexpected indent\n"
     ]
    }
   ],
   "source": [
    "power_prices = pd.read_excel('power_prices_history.xlsx', index_col=0)\n",
    "start = time.time()\n",
    "\n",
    "\n",
    "####### THE INEFFICIENT CODE STARTS HERE\n",
    "\n",
    "for i in range(len(power_prices)):\n",
    "    current_datetime = power_prices.iloc[i].name\n",
    "    if i==0:\n",
    "        power_prices.at[current_datetime, 'signal'] = 'do nothing'\n",
    "    else:\n",
    "        difference_now = power_prices.iloc[i]['fr_price'] - power_prices.iloc[i]['de_price']\n",
    "        difference_previous_hour = power_prices.iloc[i-1]['fr_price'] - power_prices.iloc[i-1]['de_price']\n",
    "    return\n",
    "        if difference_now > 0 and difference_previous_hour > 0:\n",
    "            power_prices.at[current_datetime, 'signal'] = 'nominate'\n",
    "        else:\n",
    "            power_prices.at[current_datetime, 'signal'] = 'do nothing'\n",
    "        return\n",
    "\n",
    "####### THE INEFFICIENT CODE ENDS HERE\n",
    "\n",
    "            \n",
    "end = time.time()\n",
    "print(\"Seconds:\", round(end - start, 2))\n",
    "\n",
    "display(power_prices)"
   ]
  },
  {
   "cell_type": "markdown",
   "id": "5b6b3340",
   "metadata": {},
   "source": [
    "##### Optional: <br>\n",
    "9. Write a function according to the instructions in the extended docstring and apply it to the historical Q1 2020 gas prices (obtained after data cleaning from the file 'commodities.csv' in one of the previous steps):"
   ]
  },
  {
   "cell_type": "code",
   "execution_count": null,
   "id": "d74e38ff",
   "metadata": {},
   "outputs": [],
   "source": [
    "def gas_max_profit( gas_prices ):\n",
    "    \"\"\"\n",
    "    Arguments: \n",
    "        gas_prices: numpy array / list of historical gas prices in chronological order\n",
    "        \n",
    "    Output:\n",
    "        numerical value with the maximum profit found\n",
    "    \n",
    "    Instructions:\n",
    "        * Assume that you are given a perfect price forecast of all future days, i.e. you can use real historical prices.\n",
    "        * You can only trade a fixed amount of one unit.\n",
    "        * Prices in the array are listed in chronological order.\n",
    "        * You must buy before you can sell and must sell before you can buy again.\n",
    "    \n",
    "    Examples:\n",
    "        * Input: [9, 8, 7, 6, 5, 4, 3, 2, 1, 0]\n",
    "          Output: 0\n",
    "          You will never be able to resell what you buy for a higher price.\n",
    "\n",
    "        * Input: [1, 2, 3, 4, 5, 6, 7, 8, 9]\n",
    "          Output: 8\n",
    "          You would buy on day 1 (price = 1) and sell on day 9 (price = 9).\n",
    "\n",
    "        * Input: [8, 2, 5, 1, 6, 4]\n",
    "          Output: 8\n",
    "          You would buy on day 2 (price = 2), sell on day 3 (profit = 3), buy again on day 4 (price = 1) and sell on day 5 (profit = 5).\n",
    "    \"\"\"\n",
    "    \n",
    "    # Insert your code here\n",
    "    "
   ]
  }
 ],
 "metadata": {
  "kernelspec": {
   "display_name": "Python 3 (ipykernel)",
   "language": "python",
   "name": "python3"
  },
  "language_info": {
   "codemirror_mode": {
    "name": "ipython",
    "version": 3
   },
   "file_extension": ".py",
   "mimetype": "text/x-python",
   "name": "python",
   "nbconvert_exporter": "python",
   "pygments_lexer": "ipython3",
   "version": "3.10.5"
  }
 },
 "nbformat": 4,
 "nbformat_minor": 5
}
