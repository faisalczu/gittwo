{
 "cells": [
  {
   "cell_type": "markdown",
   "id": "3dbde6b6",
   "metadata": {},
   "source": [
    "### Introduction to the data:\n",
    "\n",
    "In the energy market we work mainly with timeseries data. Most of the data is downloadable from a free or paid source that we access to. However, some of the sources are not reliable, therefore there is a need for data cleaning, e.g. dealing with outliers, missing values, mismatch in date for some of the commodities. There are many ways how to deal with them and we leave it up to you. In the attached files you can find the most important data for our business:\n",
    "\n",
    "* Power prices: electricity market is one of the pillars of EPH energy business as it represents the revenue side.\n",
    "* Gas and Coal prices: these are the most common fuels in energy generation worldwide. \n",
    "* Emissions prices: in most European countries the power generation is obliged to pay for the emissions produced because of fuel burn. It became an important factor which is making a difference in the profitability of the power generation business. \n",
    "* FX: not all commodities are traded in EUR therefore some currency conversion might be needed."
   ]
  },
  {
   "cell_type": "markdown",
   "id": "4f882a7d",
   "metadata": {},
   "source": [
    "### Tasks:\n",
    "\n",
    "Try to accomplish as many tasks as possible. You don't have to solve the tasks in the order they are listed but some of them may need the result of previous ones."
   ]
  },
  {
   "cell_type": "code",
   "execution_count": 2,
   "id": "f4b16e1c",
   "metadata": {},
   "outputs": [],
   "source": [
    "# Load here the packages you will use\n",
    "\n",
    "import pandas as pd\n",
    "import sqlite3\n",
    "import time\n"
   ]
  },
  {
   "cell_type": "markdown",
   "id": "c51ecedc",
   "metadata": {},
   "source": [
    "1.\tLoad attached csv files ('commodities', 'fx') into python. Files might contain outliers or missing data that you have to deal with, please describe the logic on how and why you cleaned the data. Specifically, propose a way to replace NaN values and shortly describe the reason behind your choice."
   ]
  },
  {
   "cell_type": "code",
   "execution_count": 2,
   "id": "4c2aef82-4c8a-4e0d-883d-1336b74ce200",
   "metadata": {},
   "outputs": [
    {
     "data": {
      "text/html": [
       "<div>\n",
       "<style scoped>\n",
       "    .dataframe tbody tr th:only-of-type {\n",
       "        vertical-align: middle;\n",
       "    }\n",
       "\n",
       "    .dataframe tbody tr th {\n",
       "        vertical-align: top;\n",
       "    }\n",
       "\n",
       "    .dataframe thead th {\n",
       "        text-align: right;\n",
       "    }\n",
       "</style>\n",
       "<table border=\"1\" class=\"dataframe\">\n",
       "  <thead>\n",
       "    <tr style=\"text-align: right;\">\n",
       "      <th></th>\n",
       "      <th>Date</th>\n",
       "      <th>EUR/USD</th>\n",
       "    </tr>\n",
       "  </thead>\n",
       "  <tbody>\n",
       "    <tr>\n",
       "      <th>0</th>\n",
       "      <td>2020-09-24</td>\n",
       "      <td>1,1626</td>\n",
       "    </tr>\n",
       "    <tr>\n",
       "      <th>1</th>\n",
       "      <td>2020-09-23</td>\n",
       "      <td>1,1659</td>\n",
       "    </tr>\n",
       "    <tr>\n",
       "      <th>2</th>\n",
       "      <td>2020-09-22</td>\n",
       "      <td>1,1706</td>\n",
       "    </tr>\n",
       "    <tr>\n",
       "      <th>3</th>\n",
       "      <td>2020-09-21</td>\n",
       "      <td>1,1769</td>\n",
       "    </tr>\n",
       "    <tr>\n",
       "      <th>4</th>\n",
       "      <td>2020-09-18</td>\n",
       "      <td>1,1837</td>\n",
       "    </tr>\n",
       "    <tr>\n",
       "      <th>...</th>\n",
       "      <td>...</td>\n",
       "      <td>...</td>\n",
       "    </tr>\n",
       "    <tr>\n",
       "      <th>1475</th>\n",
       "      <td>2015-07-01</td>\n",
       "      <td>1,1837</td>\n",
       "    </tr>\n",
       "    <tr>\n",
       "      <th>1476</th>\n",
       "      <td>2015-06-01</td>\n",
       "      <td>1,1888</td>\n",
       "    </tr>\n",
       "    <tr>\n",
       "      <th>1477</th>\n",
       "      <td>2015-05-01</td>\n",
       "      <td>1,1931</td>\n",
       "    </tr>\n",
       "    <tr>\n",
       "      <th>1478</th>\n",
       "      <td>2015-02-01</td>\n",
       "      <td>1,2</td>\n",
       "    </tr>\n",
       "    <tr>\n",
       "      <th>1479</th>\n",
       "      <td>2015-01-01</td>\n",
       "      <td>1,2102</td>\n",
       "    </tr>\n",
       "  </tbody>\n",
       "</table>\n",
       "<p>1480 rows × 2 columns</p>\n",
       "</div>"
      ],
      "text/plain": [
       "            Date EUR/USD\n",
       "0     2020-09-24  1,1626\n",
       "1     2020-09-23  1,1659\n",
       "2     2020-09-22  1,1706\n",
       "3     2020-09-21  1,1769\n",
       "4     2020-09-18  1,1837\n",
       "...          ...     ...\n",
       "1475  2015-07-01  1,1837\n",
       "1476  2015-06-01  1,1888\n",
       "1477  2015-05-01  1,1931\n",
       "1478  2015-02-01     1,2\n",
       "1479  2015-01-01  1,2102\n",
       "\n",
       "[1480 rows x 2 columns]"
      ]
     },
     "execution_count": 2,
     "metadata": {},
     "output_type": "execute_result"
    }
   ],
   "source": [
    "Fx_Data = pd.read_csv('fx.csv', sep = ';')\n",
    "Fx_Data\n",
    "\n",
    "Fx_Data.rename(columns={'Unnamed: 0':'Date'}, inplace=True)\n",
    "Fx_Data"
   ]
  },
  {
   "cell_type": "code",
   "execution_count": 3,
   "id": "419f778d",
   "metadata": {},
   "outputs": [
    {
     "data": {
      "text/html": [
       "<div>\n",
       "<style scoped>\n",
       "    .dataframe tbody tr th:only-of-type {\n",
       "        vertical-align: middle;\n",
       "    }\n",
       "\n",
       "    .dataframe tbody tr th {\n",
       "        vertical-align: top;\n",
       "    }\n",
       "\n",
       "    .dataframe thead th {\n",
       "        text-align: right;\n",
       "    }\n",
       "</style>\n",
       "<table border=\"1\" class=\"dataframe\">\n",
       "  <thead>\n",
       "    <tr style=\"text-align: right;\">\n",
       "      <th></th>\n",
       "      <th>Date</th>\n",
       "      <th>Power_EUR</th>\n",
       "      <th>Gas_EUR</th>\n",
       "      <th>Emissions_EUR</th>\n",
       "      <th>Coal_USD</th>\n",
       "    </tr>\n",
       "  </thead>\n",
       "  <tbody>\n",
       "    <tr>\n",
       "      <th>0</th>\n",
       "      <td>24-09-20</td>\n",
       "      <td>40,99</td>\n",
       "      <td>13,55</td>\n",
       "      <td>26,45</td>\n",
       "      <td>59,9</td>\n",
       "    </tr>\n",
       "    <tr>\n",
       "      <th>1</th>\n",
       "      <td>23-09-20</td>\n",
       "      <td>41,21</td>\n",
       "      <td>13,588</td>\n",
       "      <td>26,5</td>\n",
       "      <td>59,5</td>\n",
       "    </tr>\n",
       "    <tr>\n",
       "      <th>2</th>\n",
       "      <td>22-09-20</td>\n",
       "      <td>40,81</td>\n",
       "      <td>13,426</td>\n",
       "      <td>27,85</td>\n",
       "      <td>58,36</td>\n",
       "    </tr>\n",
       "    <tr>\n",
       "      <th>3</th>\n",
       "      <td>21-09-20</td>\n",
       "      <td>40,97</td>\n",
       "      <td>13,388</td>\n",
       "      <td>26,4</td>\n",
       "      <td>57,75</td>\n",
       "    </tr>\n",
       "    <tr>\n",
       "      <th>4</th>\n",
       "      <td>18-09-20</td>\n",
       "      <td>41,82</td>\n",
       "      <td>13,707</td>\n",
       "      <td>27,99</td>\n",
       "      <td>58,42</td>\n",
       "    </tr>\n",
       "    <tr>\n",
       "      <th>...</th>\n",
       "      <td>...</td>\n",
       "      <td>...</td>\n",
       "      <td>...</td>\n",
       "      <td>...</td>\n",
       "      <td>...</td>\n",
       "    </tr>\n",
       "    <tr>\n",
       "      <th>1491</th>\n",
       "      <td>07-01-15</td>\n",
       "      <td>31,64</td>\n",
       "      <td>20,04</td>\n",
       "      <td>6,87</td>\n",
       "      <td>59,76</td>\n",
       "    </tr>\n",
       "    <tr>\n",
       "      <th>1492</th>\n",
       "      <td>06-01-15</td>\n",
       "      <td>31,38</td>\n",
       "      <td>19,94</td>\n",
       "      <td>6,86</td>\n",
       "      <td>60,98</td>\n",
       "    </tr>\n",
       "    <tr>\n",
       "      <th>1493</th>\n",
       "      <td>05-01-15</td>\n",
       "      <td>31,95</td>\n",
       "      <td>20,44</td>\n",
       "      <td>6,99</td>\n",
       "      <td>62,01</td>\n",
       "    </tr>\n",
       "    <tr>\n",
       "      <th>1494</th>\n",
       "      <td>02-01-15</td>\n",
       "      <td>32,36</td>\n",
       "      <td>20,75</td>\n",
       "      <td>7,09</td>\n",
       "      <td>64,39</td>\n",
       "    </tr>\n",
       "    <tr>\n",
       "      <th>1495</th>\n",
       "      <td>01-01-15</td>\n",
       "      <td>32,36</td>\n",
       "      <td>NaN</td>\n",
       "      <td>NaN</td>\n",
       "      <td>NaN</td>\n",
       "    </tr>\n",
       "  </tbody>\n",
       "</table>\n",
       "<p>1496 rows × 5 columns</p>\n",
       "</div>"
      ],
      "text/plain": [
       "          Date Power_EUR Gas_EUR Emissions_EUR Coal_USD\n",
       "0     24-09-20     40,99   13,55         26,45     59,9\n",
       "1     23-09-20     41,21  13,588          26,5     59,5\n",
       "2     22-09-20     40,81  13,426         27,85    58,36\n",
       "3     21-09-20     40,97  13,388          26,4    57,75\n",
       "4     18-09-20     41,82  13,707         27,99    58,42\n",
       "...        ...       ...     ...           ...      ...\n",
       "1491  07-01-15     31,64   20,04          6,87    59,76\n",
       "1492  06-01-15     31,38   19,94          6,86    60,98\n",
       "1493  05-01-15     31,95   20,44          6,99    62,01\n",
       "1494  02-01-15     32,36   20,75          7,09    64,39\n",
       "1495  01-01-15     32,36     NaN           NaN      NaN\n",
       "\n",
       "[1496 rows x 5 columns]"
      ]
     },
     "execution_count": 3,
     "metadata": {},
     "output_type": "execute_result"
    }
   ],
   "source": [
    "Com_Data = pd.read_csv('commodities.csv', sep = ';')\n",
    "Com_Data\n",
    "\n",
    "Com_Data.rename(columns={'Unnamed: 0':'Date'}, inplace=True)\n",
    "Com_Data"
   ]
  },
  {
   "cell_type": "markdown",
   "id": "808e4ca1-430a-4489-a8d2-6625fb9f43d6",
   "metadata": {},
   "source": [
    "Read the data and changed the column name as the date column was missing."
   ]
  },
  {
   "cell_type": "code",
   "execution_count": 4,
   "id": "fc4de44c-92d5-4636-8658-fd22e10353e8",
   "metadata": {},
   "outputs": [
    {
     "data": {
      "text/plain": [
       "Date             object\n",
       "Power_EUR        object\n",
       "Gas_EUR          object\n",
       "Emissions_EUR    object\n",
       "Coal_USD         object\n",
       "dtype: object"
      ]
     },
     "execution_count": 4,
     "metadata": {},
     "output_type": "execute_result"
    }
   ],
   "source": [
    "Com_Data.dtypes"
   ]
  },
  {
   "cell_type": "markdown",
   "id": "a916d8cc-cb33-4075-8bfa-11f541e70e1f",
   "metadata": {},
   "source": [
    "### As the columns are object and there are comma(,) so we need to replace the comma with dot(.) and convert them to float."
   ]
  },
  {
   "cell_type": "code",
   "execution_count": 5,
   "id": "6f6dd5bd-9b8c-4b72-ba17-fb0604279ca1",
   "metadata": {},
   "outputs": [],
   "source": [
    "Com_Data['Power_EUR'] = Com_Data['Power_EUR'].str.replace(',','.')\n",
    "Com_Data['Gas_EUR'] = Com_Data['Gas_EUR'].str.replace(',','.')\n",
    "Com_Data['Emissions_EUR'] = Com_Data['Emissions_EUR'].str.replace(',','.')\n",
    "Com_Data['Coal_USD'] = Com_Data['Coal_USD'].str.replace(',','.')"
   ]
  },
  {
   "cell_type": "code",
   "execution_count": 6,
   "id": "e4b2a479-bf37-419d-b18b-c6c2e620b057",
   "metadata": {},
   "outputs": [
    {
     "data": {
      "text/html": [
       "<div>\n",
       "<style scoped>\n",
       "    .dataframe tbody tr th:only-of-type {\n",
       "        vertical-align: middle;\n",
       "    }\n",
       "\n",
       "    .dataframe tbody tr th {\n",
       "        vertical-align: top;\n",
       "    }\n",
       "\n",
       "    .dataframe thead th {\n",
       "        text-align: right;\n",
       "    }\n",
       "</style>\n",
       "<table border=\"1\" class=\"dataframe\">\n",
       "  <thead>\n",
       "    <tr style=\"text-align: right;\">\n",
       "      <th></th>\n",
       "      <th>Date</th>\n",
       "      <th>Power_EUR</th>\n",
       "      <th>Gas_EUR</th>\n",
       "      <th>Emissions_EUR</th>\n",
       "      <th>Coal_USD</th>\n",
       "    </tr>\n",
       "  </thead>\n",
       "  <tbody>\n",
       "    <tr>\n",
       "      <th>0</th>\n",
       "      <td>24-09-20</td>\n",
       "      <td>40.99</td>\n",
       "      <td>13.55</td>\n",
       "      <td>26.45</td>\n",
       "      <td>59.9</td>\n",
       "    </tr>\n",
       "    <tr>\n",
       "      <th>1</th>\n",
       "      <td>23-09-20</td>\n",
       "      <td>41.21</td>\n",
       "      <td>13.588</td>\n",
       "      <td>26.5</td>\n",
       "      <td>59.5</td>\n",
       "    </tr>\n",
       "    <tr>\n",
       "      <th>2</th>\n",
       "      <td>22-09-20</td>\n",
       "      <td>40.81</td>\n",
       "      <td>13.426</td>\n",
       "      <td>27.85</td>\n",
       "      <td>58.36</td>\n",
       "    </tr>\n",
       "    <tr>\n",
       "      <th>3</th>\n",
       "      <td>21-09-20</td>\n",
       "      <td>40.97</td>\n",
       "      <td>13.388</td>\n",
       "      <td>26.4</td>\n",
       "      <td>57.75</td>\n",
       "    </tr>\n",
       "    <tr>\n",
       "      <th>4</th>\n",
       "      <td>18-09-20</td>\n",
       "      <td>41.82</td>\n",
       "      <td>13.707</td>\n",
       "      <td>27.99</td>\n",
       "      <td>58.42</td>\n",
       "    </tr>\n",
       "    <tr>\n",
       "      <th>...</th>\n",
       "      <td>...</td>\n",
       "      <td>...</td>\n",
       "      <td>...</td>\n",
       "      <td>...</td>\n",
       "      <td>...</td>\n",
       "    </tr>\n",
       "    <tr>\n",
       "      <th>1491</th>\n",
       "      <td>07-01-15</td>\n",
       "      <td>31.64</td>\n",
       "      <td>20.04</td>\n",
       "      <td>6.87</td>\n",
       "      <td>59.76</td>\n",
       "    </tr>\n",
       "    <tr>\n",
       "      <th>1492</th>\n",
       "      <td>06-01-15</td>\n",
       "      <td>31.38</td>\n",
       "      <td>19.94</td>\n",
       "      <td>6.86</td>\n",
       "      <td>60.98</td>\n",
       "    </tr>\n",
       "    <tr>\n",
       "      <th>1493</th>\n",
       "      <td>05-01-15</td>\n",
       "      <td>31.95</td>\n",
       "      <td>20.44</td>\n",
       "      <td>6.99</td>\n",
       "      <td>62.01</td>\n",
       "    </tr>\n",
       "    <tr>\n",
       "      <th>1494</th>\n",
       "      <td>02-01-15</td>\n",
       "      <td>32.36</td>\n",
       "      <td>20.75</td>\n",
       "      <td>7.09</td>\n",
       "      <td>64.39</td>\n",
       "    </tr>\n",
       "    <tr>\n",
       "      <th>1495</th>\n",
       "      <td>01-01-15</td>\n",
       "      <td>32.36</td>\n",
       "      <td>NaN</td>\n",
       "      <td>NaN</td>\n",
       "      <td>NaN</td>\n",
       "    </tr>\n",
       "  </tbody>\n",
       "</table>\n",
       "<p>1496 rows × 5 columns</p>\n",
       "</div>"
      ],
      "text/plain": [
       "          Date Power_EUR Gas_EUR Emissions_EUR Coal_USD\n",
       "0     24-09-20     40.99   13.55         26.45     59.9\n",
       "1     23-09-20     41.21  13.588          26.5     59.5\n",
       "2     22-09-20     40.81  13.426         27.85    58.36\n",
       "3     21-09-20     40.97  13.388          26.4    57.75\n",
       "4     18-09-20     41.82  13.707         27.99    58.42\n",
       "...        ...       ...     ...           ...      ...\n",
       "1491  07-01-15     31.64   20.04          6.87    59.76\n",
       "1492  06-01-15     31.38   19.94          6.86    60.98\n",
       "1493  05-01-15     31.95   20.44          6.99    62.01\n",
       "1494  02-01-15     32.36   20.75          7.09    64.39\n",
       "1495  01-01-15     32.36     NaN           NaN      NaN\n",
       "\n",
       "[1496 rows x 5 columns]"
      ]
     },
     "execution_count": 6,
     "metadata": {},
     "output_type": "execute_result"
    }
   ],
   "source": [
    "Com_Data"
   ]
  },
  {
   "cell_type": "markdown",
   "id": "1a7f7325-eb92-491d-8909-0b1ec71371ed",
   "metadata": {},
   "source": [
    "### Here I conver the data types to date and Float."
   ]
  },
  {
   "cell_type": "code",
   "execution_count": 7,
   "id": "177a2cfd-4b7c-426f-a110-9042d1a96391",
   "metadata": {},
   "outputs": [],
   "source": [
    "Com_Data['Date'] = pd.to_datetime(Com_Data['Date'])\n",
    "Com_Data = Com_Data.astype({'Power_EUR':'float','Gas_EUR':'float', 'Emissions_EUR':'float','Coal_USD':'float'})"
   ]
  },
  {
   "cell_type": "code",
   "execution_count": 8,
   "id": "29acc81c-5b7b-4bef-835f-04e9590a9415",
   "metadata": {},
   "outputs": [
    {
     "data": {
      "text/plain": [
       "Date             datetime64[ns]\n",
       "Power_EUR               float64\n",
       "Gas_EUR                 float64\n",
       "Emissions_EUR           float64\n",
       "Coal_USD                float64\n",
       "dtype: object"
      ]
     },
     "execution_count": 8,
     "metadata": {},
     "output_type": "execute_result"
    }
   ],
   "source": [
    "Com_Data.dtypes"
   ]
  },
  {
   "cell_type": "markdown",
   "id": "13048eab-c8af-42be-aee9-0ce3961260c2",
   "metadata": {},
   "source": [
    "### Chech NAN on each column"
   ]
  },
  {
   "cell_type": "code",
   "execution_count": 9,
   "id": "479ec891-1c14-47de-9b4a-3424f60a7ad7",
   "metadata": {},
   "outputs": [
    {
     "data": {
      "text/plain": [
       "Date              0\n",
       "Power_EUR         9\n",
       "Gas_EUR          57\n",
       "Emissions_EUR    26\n",
       "Coal_USD         28\n",
       "dtype: int64"
      ]
     },
     "execution_count": 9,
     "metadata": {},
     "output_type": "execute_result"
    }
   ],
   "source": [
    "Com_Data.isna().sum()"
   ]
  },
  {
   "cell_type": "markdown",
   "id": "62fde76d-6d3d-46fe-a4ad-7e5650e620e0",
   "metadata": {},
   "source": [
    "### NUmber of NA or NAN in each column after filling the NA with the mean"
   ]
  },
  {
   "cell_type": "code",
   "execution_count": 12,
   "id": "9a4aa1c1-38ba-44fd-86e1-b440360957bd",
   "metadata": {},
   "outputs": [
    {
     "data": {
      "text/plain": [
       "Date             0\n",
       "Power_EUR        0\n",
       "Gas_EUR          0\n",
       "Emissions_EUR    0\n",
       "Coal_USD         0\n",
       "dtype: int64"
      ]
     },
     "execution_count": 12,
     "metadata": {},
     "output_type": "execute_result"
    }
   ],
   "source": [
    "Com_Data.isna().sum()"
   ]
  },
  {
   "cell_type": "markdown",
   "id": "b4784f81-1d5d-4d51-8e49-d5223c04b89a",
   "metadata": {},
   "source": [
    "### The curation is done. Now I will move to the next steps"
   ]
  },
  {
   "cell_type": "markdown",
   "id": "702f408b",
   "metadata": {},
   "source": [
    "2.\tPlease calculate for each commodity (for Coal both in USD and EUR) for every calendar year:\n",
    "\n",
    " * Average price \n",
    " * Minimum \n",
    " * Maximum\n",
    " * Volatility (standard deviation)"
   ]
  },
  {
   "cell_type": "markdown",
   "id": "770ac231-217a-4ce1-8329-9b2e2812c427",
   "metadata": {},
   "source": [
    "## Average Price"
   ]
  },
  {
   "cell_type": "code",
   "execution_count": 14,
   "id": "31643e3b-0e0f-474f-8b8b-d6acf7921353",
   "metadata": {},
   "outputs": [
    {
     "data": {
      "text/html": [
       "<div>\n",
       "<style scoped>\n",
       "    .dataframe tbody tr th:only-of-type {\n",
       "        vertical-align: middle;\n",
       "    }\n",
       "\n",
       "    .dataframe tbody tr th {\n",
       "        vertical-align: top;\n",
       "    }\n",
       "\n",
       "    .dataframe thead th {\n",
       "        text-align: right;\n",
       "    }\n",
       "</style>\n",
       "<table border=\"1\" class=\"dataframe\">\n",
       "  <thead>\n",
       "    <tr style=\"text-align: right;\">\n",
       "      <th></th>\n",
       "      <th>Power_EUR</th>\n",
       "      <th>Gas_EUR</th>\n",
       "      <th>Emissions_EUR</th>\n",
       "      <th>Coal_USD</th>\n",
       "    </tr>\n",
       "    <tr>\n",
       "      <th>YEAR</th>\n",
       "      <th></th>\n",
       "      <th></th>\n",
       "      <th></th>\n",
       "      <th></th>\n",
       "    </tr>\n",
       "  </thead>\n",
       "  <tbody>\n",
       "    <tr>\n",
       "      <th>2015</th>\n",
       "      <td>33.523856</td>\n",
       "      <td>19.962576</td>\n",
       "      <td>7.832742</td>\n",
       "      <td>54.782494</td>\n",
       "    </tr>\n",
       "    <tr>\n",
       "      <th>2016</th>\n",
       "      <td>31.815068</td>\n",
       "      <td>15.482589</td>\n",
       "      <td>5.514159</td>\n",
       "      <td>54.098299</td>\n",
       "    </tr>\n",
       "    <tr>\n",
       "      <th>2017</th>\n",
       "      <td>35.003447</td>\n",
       "      <td>17.019772</td>\n",
       "      <td>5.985560</td>\n",
       "      <td>74.266864</td>\n",
       "    </tr>\n",
       "    <tr>\n",
       "      <th>2018</th>\n",
       "      <td>3880.319895</td>\n",
       "      <td>20.545932</td>\n",
       "      <td>15.919151</td>\n",
       "      <td>86.965411</td>\n",
       "    </tr>\n",
       "    <tr>\n",
       "      <th>2019</th>\n",
       "      <td>50.284239</td>\n",
       "      <td>18.200332</td>\n",
       "      <td>24.793070</td>\n",
       "      <td>69.478831</td>\n",
       "    </tr>\n",
       "    <tr>\n",
       "      <th>2020</th>\n",
       "      <td>46.747566</td>\n",
       "      <td>13.360911</td>\n",
       "      <td>23.573013</td>\n",
       "      <td>56.344296</td>\n",
       "    </tr>\n",
       "  </tbody>\n",
       "</table>\n",
       "</div>"
      ],
      "text/plain": [
       "        Power_EUR    Gas_EUR  Emissions_EUR   Coal_USD\n",
       "YEAR                                                  \n",
       "2015    33.523856  19.962576       7.832742  54.782494\n",
       "2016    31.815068  15.482589       5.514159  54.098299\n",
       "2017    35.003447  17.019772       5.985560  74.266864\n",
       "2018  3880.319895  20.545932      15.919151  86.965411\n",
       "2019    50.284239  18.200332      24.793070  69.478831\n",
       "2020    46.747566  13.360911      23.573013  56.344296"
      ]
     },
     "execution_count": 14,
     "metadata": {},
     "output_type": "execute_result"
    }
   ],
   "source": [
    "Com_Data.groupby(['YEAR']).mean()"
   ]
  },
  {
   "cell_type": "markdown",
   "id": "72b769fc-8edf-4a27-a84d-08284f302852",
   "metadata": {},
   "source": [
    "## Minimum"
   ]
  },
  {
   "cell_type": "code",
   "execution_count": 15,
   "id": "853960ac-c14f-4194-ba57-707c121dc637",
   "metadata": {},
   "outputs": [
    {
     "data": {
      "text/html": [
       "<div>\n",
       "<style scoped>\n",
       "    .dataframe tbody tr th:only-of-type {\n",
       "        vertical-align: middle;\n",
       "    }\n",
       "\n",
       "    .dataframe tbody tr th {\n",
       "        vertical-align: top;\n",
       "    }\n",
       "\n",
       "    .dataframe thead th {\n",
       "        text-align: right;\n",
       "    }\n",
       "</style>\n",
       "<table border=\"1\" class=\"dataframe\">\n",
       "  <thead>\n",
       "    <tr style=\"text-align: right;\">\n",
       "      <th></th>\n",
       "      <th>Power_EUR</th>\n",
       "      <th>Gas_EUR</th>\n",
       "      <th>Emissions_EUR</th>\n",
       "      <th>Coal_USD</th>\n",
       "    </tr>\n",
       "    <tr>\n",
       "      <th>YEAR</th>\n",
       "      <th></th>\n",
       "      <th></th>\n",
       "      <th></th>\n",
       "      <th></th>\n",
       "    </tr>\n",
       "  </thead>\n",
       "  <tbody>\n",
       "    <tr>\n",
       "      <th>2015</th>\n",
       "      <td>26.32</td>\n",
       "      <td>14.750</td>\n",
       "      <td>6.460000</td>\n",
       "      <td>43.730000</td>\n",
       "    </tr>\n",
       "    <tr>\n",
       "      <th>2016</th>\n",
       "      <td>20.85</td>\n",
       "      <td>13.030</td>\n",
       "      <td>3.930000</td>\n",
       "      <td>36.550000</td>\n",
       "    </tr>\n",
       "    <tr>\n",
       "      <th>2017</th>\n",
       "      <td>28.01</td>\n",
       "      <td>15.660</td>\n",
       "      <td>4.350000</td>\n",
       "      <td>62.200000</td>\n",
       "    </tr>\n",
       "    <tr>\n",
       "      <th>2018</th>\n",
       "      <td>32.75</td>\n",
       "      <td>16.475</td>\n",
       "      <td>7.660000</td>\n",
       "      <td>66.428692</td>\n",
       "    </tr>\n",
       "    <tr>\n",
       "      <th>2019</th>\n",
       "      <td>41.33</td>\n",
       "      <td>13.592</td>\n",
       "      <td>13.497122</td>\n",
       "      <td>56.340000</td>\n",
       "    </tr>\n",
       "    <tr>\n",
       "      <th>2020</th>\n",
       "      <td>33.65</td>\n",
       "      <td>11.818</td>\n",
       "      <td>13.497122</td>\n",
       "      <td>51.820000</td>\n",
       "    </tr>\n",
       "  </tbody>\n",
       "</table>\n",
       "</div>"
      ],
      "text/plain": [
       "      Power_EUR  Gas_EUR  Emissions_EUR   Coal_USD\n",
       "YEAR                                              \n",
       "2015      26.32   14.750       6.460000  43.730000\n",
       "2016      20.85   13.030       3.930000  36.550000\n",
       "2017      28.01   15.660       4.350000  62.200000\n",
       "2018      32.75   16.475       7.660000  66.428692\n",
       "2019      41.33   13.592      13.497122  56.340000\n",
       "2020      33.65   11.818      13.497122  51.820000"
      ]
     },
     "execution_count": 15,
     "metadata": {},
     "output_type": "execute_result"
    }
   ],
   "source": [
    "Com_Data.groupby(['YEAR']).min()"
   ]
  },
  {
   "cell_type": "markdown",
   "id": "7b6aa7c1-fbb2-4411-b30d-9b0481336dcc",
   "metadata": {},
   "source": [
    "## Maximum"
   ]
  },
  {
   "cell_type": "code",
   "execution_count": 16,
   "id": "fa335a81-8327-4034-8ca8-3c6fd302112e",
   "metadata": {},
   "outputs": [
    {
     "data": {
      "text/html": [
       "<div>\n",
       "<style scoped>\n",
       "    .dataframe tbody tr th:only-of-type {\n",
       "        vertical-align: middle;\n",
       "    }\n",
       "\n",
       "    .dataframe tbody tr th {\n",
       "        vertical-align: top;\n",
       "    }\n",
       "\n",
       "    .dataframe thead th {\n",
       "        text-align: right;\n",
       "    }\n",
       "</style>\n",
       "<table border=\"1\" class=\"dataframe\">\n",
       "  <thead>\n",
       "    <tr style=\"text-align: right;\">\n",
       "      <th></th>\n",
       "      <th>Power_EUR</th>\n",
       "      <th>Gas_EUR</th>\n",
       "      <th>Emissions_EUR</th>\n",
       "      <th>Coal_USD</th>\n",
       "    </tr>\n",
       "    <tr>\n",
       "      <th>YEAR</th>\n",
       "      <th></th>\n",
       "      <th></th>\n",
       "      <th></th>\n",
       "      <th></th>\n",
       "    </tr>\n",
       "  </thead>\n",
       "  <tbody>\n",
       "    <tr>\n",
       "      <th>2015</th>\n",
       "      <td>709.236342</td>\n",
       "      <td>23.140000</td>\n",
       "      <td>13.497122</td>\n",
       "      <td>66.428692</td>\n",
       "    </tr>\n",
       "    <tr>\n",
       "      <th>2016</th>\n",
       "      <td>709.236342</td>\n",
       "      <td>18.630000</td>\n",
       "      <td>13.497122</td>\n",
       "      <td>77.600000</td>\n",
       "    </tr>\n",
       "    <tr>\n",
       "      <th>2017</th>\n",
       "      <td>709.236342</td>\n",
       "      <td>18.850000</td>\n",
       "      <td>13.497122</td>\n",
       "      <td>90.320000</td>\n",
       "    </tr>\n",
       "    <tr>\n",
       "      <th>2018</th>\n",
       "      <td>999999.000000</td>\n",
       "      <td>26.349000</td>\n",
       "      <td>25.230000</td>\n",
       "      <td>99.970000</td>\n",
       "    </tr>\n",
       "    <tr>\n",
       "      <th>2019</th>\n",
       "      <td>709.236342</td>\n",
       "      <td>21.302000</td>\n",
       "      <td>29.810000</td>\n",
       "      <td>87.030000</td>\n",
       "    </tr>\n",
       "    <tr>\n",
       "      <th>2020</th>\n",
       "      <td>709.236342</td>\n",
       "      <td>17.616577</td>\n",
       "      <td>30.470000</td>\n",
       "      <td>66.428692</td>\n",
       "    </tr>\n",
       "  </tbody>\n",
       "</table>\n",
       "</div>"
      ],
      "text/plain": [
       "          Power_EUR    Gas_EUR  Emissions_EUR   Coal_USD\n",
       "YEAR                                                    \n",
       "2015     709.236342  23.140000      13.497122  66.428692\n",
       "2016     709.236342  18.630000      13.497122  77.600000\n",
       "2017     709.236342  18.850000      13.497122  90.320000\n",
       "2018  999999.000000  26.349000      25.230000  99.970000\n",
       "2019     709.236342  21.302000      29.810000  87.030000\n",
       "2020     709.236342  17.616577      30.470000  66.428692"
      ]
     },
     "execution_count": 16,
     "metadata": {},
     "output_type": "execute_result"
    }
   ],
   "source": [
    "Com_Data.groupby(['YEAR']).max()"
   ]
  },
  {
   "cell_type": "markdown",
   "id": "414820f5-3394-45c0-9eb3-002652d9da3a",
   "metadata": {},
   "source": [
    "## standard deviation"
   ]
  },
  {
   "cell_type": "code",
   "execution_count": 17,
   "id": "8092821d-f085-4976-bd56-fb86dc9c1d22",
   "metadata": {
    "scrolled": true
   },
   "outputs": [
    {
     "data": {
      "text/html": [
       "<div>\n",
       "<style scoped>\n",
       "    .dataframe tbody tr th:only-of-type {\n",
       "        vertical-align: middle;\n",
       "    }\n",
       "\n",
       "    .dataframe tbody tr th {\n",
       "        vertical-align: top;\n",
       "    }\n",
       "\n",
       "    .dataframe thead th {\n",
       "        text-align: right;\n",
       "    }\n",
       "</style>\n",
       "<table border=\"1\" class=\"dataframe\">\n",
       "  <thead>\n",
       "    <tr style=\"text-align: right;\">\n",
       "      <th></th>\n",
       "      <th>Power_EUR</th>\n",
       "      <th>Gas_EUR</th>\n",
       "      <th>Emissions_EUR</th>\n",
       "      <th>Coal_USD</th>\n",
       "    </tr>\n",
       "    <tr>\n",
       "      <th>YEAR</th>\n",
       "      <th></th>\n",
       "      <th></th>\n",
       "      <th></th>\n",
       "      <th></th>\n",
       "    </tr>\n",
       "  </thead>\n",
       "  <tbody>\n",
       "    <tr>\n",
       "      <th>2015</th>\n",
       "      <td>42.012493</td>\n",
       "      <td>1.904505</td>\n",
       "      <td>0.975231</td>\n",
       "      <td>5.790080</td>\n",
       "    </tr>\n",
       "    <tr>\n",
       "      <th>2016</th>\n",
       "      <td>59.753055</td>\n",
       "      <td>1.336395</td>\n",
       "      <td>1.359008</td>\n",
       "      <td>10.942874</td>\n",
       "    </tr>\n",
       "    <tr>\n",
       "      <th>2017</th>\n",
       "      <td>42.080617</td>\n",
       "      <td>0.855202</td>\n",
       "      <td>1.518064</td>\n",
       "      <td>8.170938</td>\n",
       "    </tr>\n",
       "    <tr>\n",
       "      <th>2018</th>\n",
       "      <td>61895.373032</td>\n",
       "      <td>2.853671</td>\n",
       "      <td>4.543576</td>\n",
       "      <td>6.780368</td>\n",
       "    </tr>\n",
       "    <tr>\n",
       "      <th>2019</th>\n",
       "      <td>41.009589</td>\n",
       "      <td>1.572771</td>\n",
       "      <td>2.438662</td>\n",
       "      <td>6.982161</td>\n",
       "    </tr>\n",
       "    <tr>\n",
       "      <th>2020</th>\n",
       "      <td>68.197846</td>\n",
       "      <td>1.411587</td>\n",
       "      <td>3.690963</td>\n",
       "      <td>2.904250</td>\n",
       "    </tr>\n",
       "  </tbody>\n",
       "</table>\n",
       "</div>"
      ],
      "text/plain": [
       "         Power_EUR   Gas_EUR  Emissions_EUR   Coal_USD\n",
       "YEAR                                                  \n",
       "2015     42.012493  1.904505       0.975231   5.790080\n",
       "2016     59.753055  1.336395       1.359008  10.942874\n",
       "2017     42.080617  0.855202       1.518064   8.170938\n",
       "2018  61895.373032  2.853671       4.543576   6.780368\n",
       "2019     41.009589  1.572771       2.438662   6.982161\n",
       "2020     68.197846  1.411587       3.690963   2.904250"
      ]
     },
     "execution_count": 17,
     "metadata": {},
     "output_type": "execute_result"
    }
   ],
   "source": [
    "Com_Data.groupby(['YEAR']).std()"
   ]
  },
  {
   "cell_type": "code",
   "execution_count": 12,
   "id": "c0de6e34-a2e3-408d-aeb5-35be4f483925",
   "metadata": {
    "scrolled": true
   },
   "outputs": [
    {
     "ename": "NameError",
     "evalue": "name 'Com_Data' is not defined",
     "output_type": "error",
     "traceback": [
      "\u001b[1;31m---------------------------------------------------------------------------\u001b[0m",
      "\u001b[1;31mNameError\u001b[0m                                 Traceback (most recent call last)",
      "Input \u001b[1;32mIn [12]\u001b[0m, in \u001b[0;36m<cell line: 1>\u001b[1;34m()\u001b[0m\n\u001b[1;32m----> 1\u001b[0m Com_Data[\u001b[38;5;124m'\u001b[39m\u001b[38;5;124mCoal_EUR\u001b[39m\u001b[38;5;124m'\u001b[39m] \u001b[38;5;241m=\u001b[39m \u001b[38;5;241m0.95\u001b[39m \u001b[38;5;241m*\u001b[39m \u001b[43mCom_Data\u001b[49m[\u001b[38;5;124m'\u001b[39m\u001b[38;5;124mCoal_USD\u001b[39m\u001b[38;5;124m'\u001b[39m]\n\u001b[0;32m      2\u001b[0m Com_Data\n",
      "\u001b[1;31mNameError\u001b[0m: name 'Com_Data' is not defined"
     ]
    }
   ],
   "source": [
    "Com_Data['Coal_EUR'] = 0.95 * Com_Data['Coal_USD']\n",
    "Com_Data"
   ]
  },
  {
   "cell_type": "markdown",
   "id": "78706936",
   "metadata": {},
   "source": [
    "3. Using the commodity prices calculate new vectors according to the following equations:\n",
    " * CDS = Power price in EUR – 0.37 * coal price in EUR – 0.86 * Emissions in EUR <br>\n",
    " (CDS = Clean Dark Spread shows the profitability of a coal power plant, i.e. power - coal variable costs)\n",
    " * CSS = Power price in EUR – 2 * gas price in EUR – 0.4 * Emissions in EUR <br>\n",
    " (CSS = Clean Spark Spread shows the profitability of a gas power plant, i.e. power - gas variable costs)"
   ]
  },
  {
   "cell_type": "markdown",
   "id": "4061e713",
   "metadata": {},
   "source": [
    "4. Show graphically the CDS and CSS in one chart (time on horizontal, price on vertical axis) and represent the difference between the CDS and CSS on the secondary vertical axis."
   ]
  },
  {
   "cell_type": "markdown",
   "id": "bffb8394",
   "metadata": {},
   "source": [
    "5. Write an SQL query to make a new table called \"profitability\" in the provided database file testdatabase.db, consisting of columns 'trade_date', 'cds' and 'css' and fill it with CDS and CSS timeseries obtained in previous step."
   ]
  },
  {
   "cell_type": "code",
   "execution_count": 7,
   "id": "63c4b753",
   "metadata": {},
   "outputs": [
    {
     "ename": "OperationalError",
     "evalue": "table profitability already exists",
     "output_type": "error",
     "traceback": [
      "\u001b[1;31m---------------------------------------------------------------------------\u001b[0m",
      "\u001b[1;31mOperationalError\u001b[0m                          Traceback (most recent call last)",
      "Input \u001b[1;32mIn [7]\u001b[0m, in \u001b[0;36m<cell line: 8>\u001b[1;34m()\u001b[0m\n\u001b[0;32m      2\u001b[0m curs \u001b[38;5;241m=\u001b[39m conn\u001b[38;5;241m.\u001b[39mcursor()\n\u001b[0;32m      4\u001b[0m table \u001b[38;5;241m=\u001b[39m \u001b[38;5;124m\"\"\"\u001b[39m\u001b[38;5;124m \u001b[39m\n\u001b[0;32m      5\u001b[0m \u001b[38;5;124m        CREATE TABLE profitability (id INT AUTO INCREMENT PRIMARY KEY, trade_date TIMESTAMP, cds FLOAT, css FLOAT)\u001b[39m\n\u001b[0;32m      6\u001b[0m \u001b[38;5;124m        \u001b[39m\u001b[38;5;124m\"\"\"\u001b[39m\n\u001b[1;32m----> 8\u001b[0m \u001b[43mcurs\u001b[49m\u001b[38;5;241;43m.\u001b[39;49m\u001b[43mexecute\u001b[49m\u001b[43m(\u001b[49m\u001b[43mtable\u001b[49m\u001b[43m)\u001b[49m\n\u001b[0;32m      9\u001b[0m conn\u001b[38;5;241m.\u001b[39mclose()\n",
      "\u001b[1;31mOperationalError\u001b[0m: table profitability already exists"
     ]
    }
   ],
   "source": [
    "conn = sqlite3.connect(\"testdatabase.db\")\n",
    "curs = conn.cursor()\n",
    "\n",
    "table = \"\"\" \n",
    "        CREATE TABLE profitability (id INT AUTO INCREMENT PRIMARY KEY, trade_date TIMESTAMP, cds FLOAT, css FLOAT)\n",
    "        \"\"\"\n",
    "\n",
    "curs.execute(table)\n",
    "conn.close()"
   ]
  },
  {
   "cell_type": "markdown",
   "id": "28420f1a",
   "metadata": {},
   "source": [
    "With the table created, compare the historical CSS and CDS values with the past availabilities of some of the company’s power plants. This registry of past availability days already exists in the database in a table called “availability” with the following format:\n",
    "\n",
    "| trade_date | coal_AX23 | coal_BM12 | gas_N9 |\n",
    "| --- | --- | --- | --- |\n",
    "| 24-09-2020 | TRUE | TRUE | TRUE |\n",
    "| 23-09-2020 | TRUE | TRUE | FALSE |\n",
    "| 22-09-2020 | TRUE | TRUE | TRUE |\n",
    "| 21-09-2020 | FALSE | TRUE | TRUE |\n",
    "| 18-09-2020 | FALSE | TRUE | TRUE |\n",
    "| ... | ... | ... | ... |\n",
    "\n",
    "The power plant is able to produce electricity on TRUE days while a maintenance is going on FALSE days, meaning the plant cannot generate power. "
   ]
  },
  {
   "cell_type": "markdown",
   "id": "8fbbc88f",
   "metadata": {},
   "source": [
    "6. Write an SQL query to select the days on which the CSS was positive (greater than zero) and, at the same time, the power plant “gas_N9” was available for production. The result should only include a 'trade_date' column and a 'css' column with the CSS numerical values."
   ]
  },
  {
   "cell_type": "code",
   "execution_count": null,
   "id": "ee8b183f",
   "metadata": {},
   "outputs": [],
   "source": [
    "conn = sqlite3.connect(\"testdatabase.db\")\n",
    "curs = conn.cursor()\n",
    "\n",
    "df = pd.read_sql_query(\"YOUR QUERY\", conn)\n",
    "\n",
    "conn.close()"
   ]
  },
  {
   "cell_type": "markdown",
   "id": "0cca7bd8",
   "metadata": {},
   "source": [
    "7. Write an SQL query to count the number of days per calendar quarter (Q1: Jan-Mar, Q2: Apr-Jun etc.) when both “coal_AX23” and “coal_BM12” were available for generation and the CDS was higher than the CSS. The result should include columns with the year, quarter and counted number of days that meet the requirements, for instance:\n",
    "\n",
    "| year | quarter | count |\n",
    "| --- | --- | --- |\n",
    "| 2020 | 4 | 24 |\n",
    "| 2020 | 3 | 65 |\n",
    "| 2020 | 2 | 73 |\n",
    "| 2020 | 1 | 56 |\n",
    "| 2019 | 4 | 76 |\n",
    "| 2019 | 3 | 82 |\n",
    "| ... | ... | ... |"
   ]
  },
  {
   "cell_type": "code",
   "execution_count": null,
   "id": "419fbc3a",
   "metadata": {},
   "outputs": [],
   "source": [
    "conn = sqlite3.connect(\"testdatabase.db\")\n",
    "curs = conn.cursor()\n",
    "\n",
    "df = pd.read_sql_query(\"YOUR QUERY\", conn)\n",
    "\n",
    "conn.close()"
   ]
  },
  {
   "cell_type": "markdown",
   "id": "13d5a2a3",
   "metadata": {},
   "source": [
    "<br>\n",
    "<br>\n",
    "The aim of the next exercise is to simulate the cross-border power transmission from Germany to France. In order to do this, an Excel file containing a dataframe like the one below is provided:\n",
    "\n",
    "|datetime            | de_price | fr_price | signal |\n",
    "|---------------------|----------|----------|--------|\n",
    "| 2013-07-02 00:00:00 | 31.95    | 32.33    | NaN    |\n",
    "| 2013-07-02 01:00:00 | 30.01    | 30.34    | NaN    |\n",
    "| 2013-07-02 02:00:00 | 28.30     | 26.23     | NaN    |\n",
    "| 2013-07-02 03:00:00 | 25.84    | 27.10     | NaN    |\n",
    "| 2013-07-02 04:00:00 | 26.72    | 28.81    | NaN    |\n",
    "\n",
    "Note: Data in the dataframe is already correctly treated, there is no need to treat repeated dates or NaN values in the 'price' columns.\n",
    "\n",
    "\n",
    "Aside of the electricity prices for each country, there is an empty column named \"signal\" that needs\n",
    "to be filled with a string saying either 'nominate' or 'do nothing'. The condition is as follows: in each of the hours (rows), if the\n",
    "French price is greater than the German one and the same thing happened in the previous hour (row above), this hour will be labeled as 'nominate', otherwise it will be labeled as 'do nothing'.\n",
    "\n",
    "By following these instructions, the sample shown above should have its \"signal\" column as follows:\n",
    "\n",
    "\n",
    "|datetime            | de_price | fr_price | signal |\n",
    "|---------------------|----------|----------|--------|\n",
    "| 2013-07-02 00:00:00 | 31.95    | 32.33    | do nothing    |\n",
    "| 2013-07-02 01:00:00 | 30.01    | 30.34    | nominate    |\n",
    "| 2013-07-02 02:00:00 | 28.30     | 26.23     | do nothing    |\n",
    "| 2013-07-02 03:00:00 | 25.84    | 27.10     | do nothing    |\n",
    "| 2013-07-02 04:00:00 | 26.72    | 28.81    | nominate    |\n",
    "\n",
    "Since the top-row hour is the first one on the dataset, it will be automatically labeled as \"do nothing\"."
   ]
  },
  {
   "cell_type": "markdown",
   "id": "286091c9",
   "metadata": {},
   "source": [
    "8. In order to accomplish this task, a very inefficient chunk of code is given as an example. Modify it or rewrite completely in order to get the same result, but faster:"
   ]
  },
  {
   "cell_type": "code",
   "execution_count": null,
   "id": "ea7cb6a3",
   "metadata": {},
   "outputs": [],
   "source": [
    "power_prices = pd.read_excel('power_prices_history.xlsx', index_col=0)\n",
    "start = time.time()\n",
    "\n",
    "\n",
    "####### THE INEFFICIENT CODE STARTS HERE\n",
    "\n",
    "for i in range(len(power_prices)):\n",
    "    current_datetime = power_prices.iloc[i].name\n",
    "    if i==0:\n",
    "        power_prices.at[current_datetime, 'signal'] = 'do nothing'\n",
    "    else:\n",
    "        difference_now = power_prices.iloc[i]['fr_price'] - power_prices.iloc[i]['de_price']\n",
    "        difference_previous_hour = power_prices.iloc[i-1]['fr_price'] - power_prices.iloc[i-1]['de_price']\n",
    "\n",
    "        if difference_now > 0 and difference_previous_hour > 0:\n",
    "            power_prices.at[current_datetime, 'signal'] = 'nominate'\n",
    "        else:\n",
    "            power_prices.at[current_datetime, 'signal'] = 'do nothing'\n",
    "\n",
    "####### THE INEFFICIENT CODE ENDS HERE\n",
    "\n",
    "            \n",
    "end = time.time()\n",
    "print(\"Seconds:\", round(end - start, 2))\n",
    "\n",
    "display(power_prices)"
   ]
  },
  {
   "cell_type": "markdown",
   "id": "5b6b3340",
   "metadata": {},
   "source": [
    "##### Optional: <br>\n",
    "9. Write a function according to the instructions in the extended docstring and apply it to the historical Q1 2020 gas prices (obtained after data cleaning from the file 'commodities.csv' in one of the previous steps):"
   ]
  },
  {
   "cell_type": "code",
   "execution_count": null,
   "id": "d74e38ff",
   "metadata": {},
   "outputs": [],
   "source": [
    "def gas_max_profit( gas_prices ):\n",
    "    \"\"\"\n",
    "    Arguments: \n",
    "        gas_prices: numpy array / list of historical gas prices in chronological order\n",
    "        \n",
    "    Output:\n",
    "        numerical value with the maximum profit found\n",
    "    \n",
    "    Instructions:\n",
    "        * Assume that you are given a perfect price forecast of all future days, i.e. you can use real historical prices.\n",
    "        * You can only trade a fixed amount of one unit.\n",
    "        * Prices in the array are listed in chronological order.\n",
    "        * You must buy before you can sell and must sell before you can buy again.\n",
    "    \n",
    "    Examples:\n",
    "        * Input: [9, 8, 7, 6, 5, 4, 3, 2, 1, 0]\n",
    "          Output: 0\n",
    "          You will never be able to resell what you buy for a higher price.\n",
    "\n",
    "        * Input: [1, 2, 3, 4, 5, 6, 7, 8, 9]\n",
    "          Output: 8\n",
    "          You would buy on day 1 (price = 1) and sell on day 9 (price = 9).\n",
    "\n",
    "        * Input: [8, 2, 5, 1, 6, 4]\n",
    "          Output: 8\n",
    "          You would buy on day 2 (price = 2), sell on day 3 (profit = 3), buy again on day 4 (price = 1) and sell on day 5 (profit = 5).\n",
    "    \"\"\"\n",
    "    \n",
    "    # Insert your code here\n",
    "    "
   ]
  }
 ],
 "metadata": {
  "kernelspec": {
   "display_name": "Python 3 (ipykernel)",
   "language": "python",
   "name": "python3"
  },
  "language_info": {
   "codemirror_mode": {
    "name": "ipython",
    "version": 3
   },
   "file_extension": ".py",
   "mimetype": "text/x-python",
   "name": "python",
   "nbconvert_exporter": "python",
   "pygments_lexer": "ipython3",
   "version": "3.10.5"
  }
 },
 "nbformat": 4,
 "nbformat_minor": 5
}
